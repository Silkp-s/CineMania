{
 "cells": [
  {
   "cell_type": "markdown",
   "id": "f3405a39",
   "metadata": {},
   "source": [
    "## Consultar un listado de Cines\n",
    "Para esto se utiliza el método GET"
   ]
  },
  {
   "cell_type": "code",
   "execution_count": 8,
   "id": "d4dc0c79",
   "metadata": {},
   "outputs": [
    {
     "name": "stdout",
     "output_type": "stream",
     "text": [
      "Código de respuesta: 200\n",
      "Cines: {'status': True, 'Cines': [{'id': 1, 'ciudad': 'Elvisshire', 'pais': 'Martinique', 'created_at': '2024-12-12T00:02:49.000000Z', 'updated_at': '2024-12-12T00:02:49.000000Z'}, {'id': 2, 'ciudad': 'Morarborough', 'pais': 'United States of America', 'created_at': '2024-12-12T00:02:49.000000Z', 'updated_at': '2024-12-12T00:02:49.000000Z'}, {'id': 3, 'ciudad': 'East Heatherburgh', 'pais': 'Tokelau', 'created_at': '2024-12-12T00:02:49.000000Z', 'updated_at': '2024-12-12T00:02:49.000000Z'}, {'id': 4, 'ciudad': 'Baumbachfurt', 'pais': 'Uruguay', 'created_at': '2024-12-12T00:02:49.000000Z', 'updated_at': '2024-12-12T00:02:49.000000Z'}, {'id': 5, 'ciudad': 'Wiegandland', 'pais': 'Algeria', 'created_at': '2024-12-12T00:02:49.000000Z', 'updated_at': '2024-12-12T00:02:49.000000Z'}, {'id': 6, 'ciudad': 'East Sunny', 'pais': 'South Georgia and the South Sandwich Islands', 'created_at': '2024-12-12T00:02:49.000000Z', 'updated_at': '2024-12-12T00:02:49.000000Z'}, {'id': 7, 'ciudad': 'Pollichview', 'pais': 'Tuvalu', 'created_at': '2024-12-12T00:02:49.000000Z', 'updated_at': '2024-12-12T00:02:49.000000Z'}, {'id': 8, 'ciudad': 'West Thomasland', 'pais': 'Bouvet Island (Bouvetoya)', 'created_at': '2024-12-12T00:02:49.000000Z', 'updated_at': '2024-12-12T00:02:49.000000Z'}, {'id': 9, 'ciudad': 'West Tony', 'pais': 'Ukraine', 'created_at': '2024-12-12T00:02:49.000000Z', 'updated_at': '2024-12-12T00:02:49.000000Z'}, {'id': 10, 'ciudad': 'Brycenmouth', 'pais': 'Timor-Leste', 'created_at': '2024-12-12T00:02:49.000000Z', 'updated_at': '2024-12-12T00:02:49.000000Z'}]}\n"
     ]
    }
   ],
   "source": [
    "import requests\n",
    "\n",
    "# URL de API creada en Laravel\n",
    "url_api = 'http://127.0.0.1:8000/api/cines'\n",
    "\n",
    "try:\n",
    "    # Realizamos la petición GET\n",
    "    response = requests.get(url_api)\n",
    "\n",
    "    # Mostramos el código de respuesta\n",
    "    print(f\"Código de respuesta: {response.status_code}\")\n",
    "    \n",
    "    # Verificar si la respuesta fue exitosa\n",
    "    if response.status_code == 200:\n",
    "        # Convertir la respuesta a JSON y mostrar los datos\n",
    "        cines = response.json()\n",
    "        print(\"Cines:\", cines)\n",
    "    elif response.status_code == 404:\n",
    "        print(\"Error: No se encontró la URL\")\n",
    "    elif response.status_code == 500:\n",
    "        print(\"Error: Problema con el servidor\")\n",
    "    else:\n",
    "        print(\"Error inesperado:\", response.status_code)\n",
    "except requests.ConnectionError:\n",
    "    print(\"Error: No se pudo conectar al servidor\")"
   ]
  },
  {
   "cell_type": "code",
   "execution_count": 3,
   "id": "135d921b",
   "metadata": {},
   "outputs": [
    {
     "name": "stderr",
     "output_type": "stream",
     "text": [
      "\"which\" no se reconoce como un comando interno o externo,\n",
      "programa o archivo por lotes ejecutable.\n"
     ]
    }
   ],
   "source": [
    "#pip install requests"
   ]
  },
  {
   "cell_type": "markdown",
   "id": "63d15cb6",
   "metadata": {},
   "source": [
    "## Consultar por un ID en específico\n",
    "Para esto también se utiliza GET, pero especificando el ID del elemento"
   ]
  },
  {
   "cell_type": "code",
   "execution_count": 15,
   "id": "532db0be",
   "metadata": {},
   "outputs": [
    {
     "name": "stdout",
     "output_type": "stream",
     "text": [
      "Código de respuesta: 200\n",
      "Detalles del cine: {'id': 2, 'ciudad': 'Odieville', 'pais': 'Marshall Islands', 'created_at': '2024-12-06T02:31:02.000000Z', 'updated_at': '2024-12-06T02:31:02.000000Z'}\n"
     ]
    }
   ],
   "source": [
    "import requests\n",
    "\n",
    "# URL de API creada en Laravel para consultar un cine específico\n",
    "cine_id = 2\n",
    "url_api = f'http://127.0.0.1:8000/api/cines/{cine_id}'\n",
    "\n",
    "try:\n",
    "    # Realizamos la petición GET para el ID específico\n",
    "    response = requests.get(url_api)\n",
    "\n",
    "    # Mostramos el código de respuesta\n",
    "    print(f\"Código de respuesta: {response.status_code}\")\n",
    "\n",
    "    # Verificar si la respuesta fue exitosa\n",
    "    if response.status_code == 200:\n",
    "        cine = response.json()\n",
    "        print(\"Detalles del cine:\", cine)\n",
    "    elif response.status_code == 404:\n",
    "        print(f\"Error: No se encontró el cine con ID {cine_id}\")\n",
    "    elif response.status_code == 500:\n",
    "        print(\"Error: Problema con el servidor\")\n",
    "    else:\n",
    "        print(\"Error inesperado:\", response.status_code)\n",
    "except requests.ConnectionError:\n",
    "    print(\"Error: No se pudo conectar al servidor\")"
   ]
  },
  {
   "cell_type": "markdown",
   "id": "9d704bad",
   "metadata": {},
   "source": [
    "## Crear un Cine\n",
    "Para esto se utiliza el método POST"
   ]
  },
  {
   "cell_type": "code",
   "execution_count": 21,
   "id": "a4ba998f",
   "metadata": {},
   "outputs": [
    {
     "name": "stdout",
     "output_type": "stream",
     "text": [
      "Cine creado con éxito: {'status': True, 'Message': 'cine Creado con exito!', 'cine': {'ciudad': 'Ciudad de México2', 'pais': 'Méxic2o', 'updated_at': '2024-12-13T04:40:54.000000Z', 'created_at': '2024-12-13T04:40:54.000000Z', 'id': 17}}\n"
     ]
    }
   ],
   "source": [
    "import requests\n",
    "\n",
    "# URL de API creada en Laravel\n",
    "url_api = 'http://127.0.0.1:8000/api/cines'\n",
    "\n",
    "# Datos para crear un nuevo cine\n",
    "data = {\n",
    "    \"ciudad\": \"Ciudad de México2\",\n",
    "    \"pais\": \"Méxic2o\"\n",
    "}\n",
    "try:\n",
    "    response = requests.post(url_api, json=data)\n",
    "\n",
    "    if response.status_code == 200:\n",
    "        print(\"Cine creado con éxito:\", response.json())\n",
    "    else:\n",
    "        print(f\"Error: {response.status_code}\")\n",
    "except requests.ConnectionError:\n",
    "    print(\"Error: No se pudo conectar al servidor\")"
   ]
  },
  {
   "cell_type": "markdown",
   "id": "99bc8917",
   "metadata": {},
   "source": [
    "## Actualizar un Cine\n",
    "Para esto se utiliza el método PUT"
   ]
  },
  {
   "cell_type": "code",
   "execution_count": 23,
   "id": "eb702a83",
   "metadata": {},
   "outputs": [
    {
     "name": "stdout",
     "output_type": "stream",
     "text": [
      "Cine actualizado con éxito: {'Message': 'Actualizado Con exito', 'Cliente': {'id': 5, 'ciudad': 'Guadalajara', 'pais': 'México', 'created_at': '2024-12-06T02:31:02.000000Z', 'updated_at': '2024-12-13T04:42:58.000000Z'}, 'status': 200}\n"
     ]
    }
   ],
   "source": [
    "import requests\n",
    "\n",
    "# URL de API creada en Laravel\n",
    "url_api = 'http://127.0.0.1:8000/api/cines/5'  # Asegúrate de que 1 sea el ID correcto\n",
    "\n",
    "# Datos para actualizar el cine\n",
    "data = {\n",
    "    \"ciudad\": \"Guadalajara\",\n",
    "    \"pais\": \"México\"\n",
    "}\n",
    "\n",
    "try:\n",
    "    response = requests.put(url_api, json=data)\n",
    "\n",
    "    if response.status_code == 200:\n",
    "        print(\"Cine actualizado con éxito:\", response.json())\n",
    "    else:\n",
    "        print(f\"Error: {response.status_code}\")\n",
    "except requests.ConnectionError:\n",
    "    print(\"Error: No se pudo conectar al servidor\")"
   ]
  },
  {
   "cell_type": "markdown",
   "id": "b0fa74f4",
   "metadata": {},
   "source": [
    "## Eliminar un Cine\n",
    "Para esto se utiliza el método DELETE"
   ]
  },
  {
   "cell_type": "code",
   "execution_count": 20,
   "id": "94197100",
   "metadata": {},
   "outputs": [
    {
     "name": "stdout",
     "output_type": "stream",
     "text": [
      "Cine eliminado con éxito.\n"
     ]
    }
   ],
   "source": [
    "import requests\n",
    "\n",
    "# URL de API creada en Laravel\n",
    "url_api = 'http://127.0.0.1:8000/api/cines/12'\n",
    "\n",
    "try:\n",
    "    response = requests.delete(url_api)\n",
    "\n",
    "    if response.status_code == 200:\n",
    "        print(\"Cine eliminado con éxito.\")\n",
    "    else:\n",
    "        print(f\"Error: {response.status_code}\")\n",
    "except requests.ConnectionError:\n",
    "    print(\"Error: No se pudo conectar al servidor\")"
   ]
  },
  {
   "cell_type": "markdown",
   "id": "a8eca528",
   "metadata": {},
   "source": [
    "## Nuevo listado\n",
    "Consultamos nuevamente el listado, verificando que el elemento con ID = 1 fue eliminado, y que hay un nuevo elemento creado con los datos proporcionados."
   ]
  },
  {
   "cell_type": "code",
   "execution_count": 14,
   "id": "989934ad",
   "metadata": {},
   "outputs": [
    {
     "name": "stdout",
     "output_type": "stream",
     "text": [
      "Código de respuesta: 200\n",
      "Cines: {'status': True, 'Cines': [{'id': 2, 'ciudad': 'Odieville', 'pais': 'Marshall Islands', 'created_at': '2024-12-06T02:31:02.000000Z', 'updated_at': '2024-12-06T02:31:02.000000Z'}, {'id': 3, 'ciudad': 'Bettyefort', 'pais': 'Singapore', 'created_at': '2024-12-06T02:31:02.000000Z', 'updated_at': '2024-12-06T02:31:02.000000Z'}, {'id': 4, 'ciudad': 'Framishire', 'pais': 'Saint Barthelemy', 'created_at': '2024-12-06T02:31:02.000000Z', 'updated_at': '2024-12-06T02:31:02.000000Z'}, {'id': 5, 'ciudad': 'North Sarailand', 'pais': 'Czech Republic', 'created_at': '2024-12-06T02:31:02.000000Z', 'updated_at': '2024-12-06T02:31:02.000000Z'}, {'id': 6, 'ciudad': 'Port Esteban', 'pais': 'Iran', 'created_at': '2024-12-06T02:31:02.000000Z', 'updated_at': '2024-12-06T02:31:02.000000Z'}, {'id': 7, 'ciudad': 'Shanahanstad', 'pais': 'Guadeloupe', 'created_at': '2024-12-06T02:31:02.000000Z', 'updated_at': '2024-12-06T02:31:02.000000Z'}, {'id': 8, 'ciudad': 'North Winnifred', 'pais': 'Lesotho', 'created_at': '2024-12-06T02:31:02.000000Z', 'updated_at': '2024-12-06T02:31:02.000000Z'}, {'id': 9, 'ciudad': 'Reinholdtown', 'pais': 'Antigua and Barbuda', 'created_at': '2024-12-06T02:31:02.000000Z', 'updated_at': '2024-12-06T02:31:02.000000Z'}, {'id': 10, 'ciudad': 'North Sabrynaland', 'pais': 'Guatemala', 'created_at': '2024-12-06T02:31:02.000000Z', 'updated_at': '2024-12-06T02:31:02.000000Z'}, {'id': 11, 'ciudad': 'Ciudad de México', 'pais': 'México', 'created_at': '2024-12-13T03:48:26.000000Z', 'updated_at': '2024-12-13T03:48:26.000000Z'}, {'id': 12, 'ciudad': 'Ciudad de México', 'pais': 'México', 'created_at': '2024-12-13T03:49:46.000000Z', 'updated_at': '2024-12-13T03:49:46.000000Z'}, {'id': 13, 'ciudad': 'Ciudad de mexico', 'pais': 'Mexico', 'created_at': '2024-12-13T03:50:42.000000Z', 'updated_at': '2024-12-13T03:50:42.000000Z'}, {'id': 14, 'ciudad': 'Ciudad de mexico', 'pais': 'Mexico', 'created_at': '2024-12-13T03:53:26.000000Z', 'updated_at': '2024-12-13T03:53:26.000000Z'}, {'id': 15, 'ciudad': 'Ciudad de México', 'pais': 'México', 'created_at': '2024-12-13T04:27:04.000000Z', 'updated_at': '2024-12-13T04:27:04.000000Z'}]}\n"
     ]
    }
   ],
   "source": [
    "import requests\n",
    "\n",
    "# URL de API creada en Laravel\n",
    "url_api = 'http://127.0.0.1:8000/api/cines'\n",
    "\n",
    "try:\n",
    "    # Realizamos la petición GET\n",
    "    response = requests.get(url_api)\n",
    "\n",
    "    # Mostramos el código de respuesta\n",
    "    print(f\"Código de respuesta: {response.status_code}\")\n",
    "    \n",
    "    # Verificar si la respuesta fue exitosa\n",
    "    if response.status_code == 200:\n",
    "        # Convertir la respuesta a JSON y mostrar los datos\n",
    "        cines = response.json()\n",
    "        print(\"Cines:\", cines)\n",
    "    elif response.status_code == 404:\n",
    "        print(\"Error: No se encontró la URL\")\n",
    "    elif response.status_code == 500:\n",
    "        print(\"Error: Problema con el servidor\")\n",
    "    else:\n",
    "        print(\"Error inesperado:\", response.status_code)\n",
    "except requests.ConnectionError:\n",
    "    print(\"Error: No se pudo conectar al servidor\")"
   ]
  }
 ],
 "metadata": {
  "kernelspec": {
   "display_name": "Python 3",
   "language": "python",
   "name": "python3"
  },
  "language_info": {
   "codemirror_mode": {
    "name": "ipython",
    "version": 3
   },
   "file_extension": ".py",
   "mimetype": "text/x-python",
   "name": "python",
   "nbconvert_exporter": "python",
   "pygments_lexer": "ipython3",
   "version": "3.13.1"
  }
 },
 "nbformat": 4,
 "nbformat_minor": 5
}
