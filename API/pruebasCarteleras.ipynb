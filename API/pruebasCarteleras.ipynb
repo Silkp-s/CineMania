{
 "cells": [
  {
   "cell_type": "markdown",
   "metadata": {},
   "source": [
    "## Consultar carteleras\n"
   ]
  },
  {
   "cell_type": "code",
   "execution_count": 2,
   "metadata": {},
   "outputs": [
    {
     "name": "stdout",
     "output_type": "stream",
     "text": [
      "Código de respuesta: 200\n",
      "carteleras: {'status': True, 'cartelera': [{'id': 1, 'cine_id': 3, 'created_at': '2024-12-12T00:03:50.000000Z', 'updated_at': '2024-12-12T00:03:50.000000Z'}]}\n"
     ]
    }
   ],
   "source": [
    "import requests\n",
    "\n",
    "# URL de API creada en Laravel\n",
    "url_api = 'http://127.0.0.1:8000/api/carteleras'\n",
    "\n",
    "try:\n",
    "    # Realizamos la petición GET\n",
    "    response = requests.get(url_api)\n",
    "\n",
    "    # Mostramos el código de respuesta\n",
    "    print(f\"Código de respuesta: {response.status_code}\")\n",
    "    \n",
    "    # Verificar si la respuesta fue exitosa\n",
    "    if response.status_code == 200:\n",
    "        # Convertir la respuesta a JSON y mostrar los datos\n",
    "        carteleras = response.json()\n",
    "        print(\"carteleras:\", carteleras)\n",
    "    elif response.status_code == 404:\n",
    "        print(\"Error: No se encontró la URL\")\n",
    "    elif response.status_code == 500:\n",
    "        print(\"Error: Problema con el servidor\")\n",
    "    else:\n",
    "        print(\"Error inesperado:\", response.status_code)\n",
    "except requests.ConnectionError:\n",
    "    print(\"Error: No se pudo conectar al servidor\")"
   ]
  },
  {
   "cell_type": "markdown",
   "metadata": {},
   "source": [
    "## Consultar cartelera por ID"
   ]
  },
  {
   "cell_type": "code",
   "execution_count": 5,
   "metadata": {},
   "outputs": [
    {
     "name": "stdout",
     "output_type": "stream",
     "text": [
      "Código de respuesta: 200\n",
      "Detalles del cartelera: {'id': 1, 'cine_id': 3, 'created_at': '2024-12-12T00:03:50.000000Z', 'updated_at': '2024-12-12T00:03:50.000000Z'}\n"
     ]
    }
   ],
   "source": [
    "import requests\n",
    "\n",
    "# URL de API creada en Laravel para consultar un cartelera específico\n",
    "cartelera_id = 1\n",
    "url_api = f'http://127.0.0.1:8000/api/carteleras/{cartelera_id}'\n",
    "\n",
    "try:\n",
    "    # Realizamos la petición GET para el ID específico\n",
    "    response = requests.get(url_api)\n",
    "\n",
    "    # Mostramos el código de respuesta\n",
    "    print(f\"Código de respuesta: {response.status_code}\")\n",
    "\n",
    "    # Verificar si la respuesta fue exitosa\n",
    "    if response.status_code == 200:\n",
    "        cartelera = response.json()\n",
    "        print(\"Detalles del cartelera:\", cartelera)\n",
    "    elif response.status_code == 404:\n",
    "        print(f\"Error: No se encontró la cartelera {cartelera_id}\")\n",
    "    elif response.status_code == 500:\n",
    "        print(\"Error: Problema con el servidor\")\n",
    "    else:\n",
    "        print(\"Error inesperado:\", response.status_code)\n",
    "except requests.ConnectionError:\n",
    "    print(\"Error: No se pudo conectar al servidor\")"
   ]
  },
  {
   "cell_type": "markdown",
   "metadata": {},
   "source": [
    "## Crear una cartelera"
   ]
  },
  {
   "cell_type": "code",
   "execution_count": 48,
   "metadata": {},
   "outputs": [
    {
     "name": "stdout",
     "output_type": "stream",
     "text": [
      "Cartelera creado con éxito: {'status': True, 'Message': 'Creado con exito!', 'cartelera': {'cine_id': 3, 'updated_at': '2024-12-13T17:31:12.000000Z', 'created_at': '2024-12-13T17:31:12.000000Z', 'id': 19}}\n"
     ]
    }
   ],
   "source": [
    "import requests\n",
    "\n",
    "# URL de API creada en Laravel\n",
    "url_api = 'http://127.0.0.1:8000/api/carteleras'\n",
    "# Crear una nueva cartelera\n",
    "data = {\n",
    "    \"cine_id\": 3,\n",
    "}\n",
    "try:\n",
    "    response = requests.post(url_api, json=data)\n",
    "\n",
    "    if response.status_code == 200:\n",
    "        print(\"Cartelera creado con éxito:\", response.json())\n",
    "    else:\n",
    "        print(f\"Error: {response.status_code}\")\n",
    "except requests.ConnectionError:\n",
    "    print(\"Error: No se pudo conectar al servidor\")"
   ]
  },
  {
   "cell_type": "markdown",
   "metadata": {},
   "source": [
    "## Actualizar cartelera"
   ]
  },
  {
   "cell_type": "code",
   "execution_count": 37,
   "metadata": {},
   "outputs": [
    {
     "name": "stdout",
     "output_type": "stream",
     "text": [
      "Cartelera actualizada con éxito: {'Message': 'Error', 'cartelera': None, 'status': 404}\n"
     ]
    }
   ],
   "source": [
    "import requests\n",
    "\n",
    "# URL de API creada en Laravel\n",
    "url_api = 'http://127.0.0.1:8000/api/carteleras/10'  # ID al que se va a actualizar\n",
    "\n",
    "# Datos para actualizar el cine\n",
    "data = {\n",
    "    \"cine_id\": 3,   \n",
    "}\n",
    "\n",
    "try:\n",
    "    response = requests.put(url_api, json=data)\n",
    "\n",
    "    if response.status_code == 200:\n",
    "        print(\"Cartelera actualizada con éxito:\", response.json())\n",
    "    else:\n",
    "        print(f\"Error: {response.status_code}\")\n",
    "except requests.ConnectionError:\n",
    "    print(\"Error: No se pudo conectar al servidor\")"
   ]
  },
  {
   "cell_type": "markdown",
   "metadata": {},
   "source": [
    "# Eliminar cartelera\n"
   ]
  },
  {
   "cell_type": "code",
   "execution_count": 47,
   "metadata": {},
   "outputs": [
    {
     "name": "stdout",
     "output_type": "stream",
     "text": [
      "Cartelera eliminada con éxito.\n"
     ]
    }
   ],
   "source": [
    "import requests\n",
    "\n",
    "# URL de API creada en Laravel\n",
    "url_api = 'http://127.0.0.1:8000/api/carteleras/17'\n",
    "\n",
    "try:\n",
    "    response = requests.delete(url_api)\n",
    "\n",
    "    if response.status_code == 200:\n",
    "        print(\"Cartelera eliminada con éxito.\")\n",
    "    else:\n",
    "        print(f\"Error: {response.status_code}\")\n",
    "except requests.ConnectionError:\n",
    "    print(\"Error: No se pudo conectar al servidor\")"
   ]
  }
 ],
 "metadata": {
  "kernelspec": {
   "display_name": "Python 3",
   "language": "python",
   "name": "python3"
  },
  "language_info": {
   "codemirror_mode": {
    "name": "ipython",
    "version": 3
   },
   "file_extension": ".py",
   "mimetype": "text/x-python",
   "name": "python",
   "nbconvert_exporter": "python",
   "pygments_lexer": "ipython3",
   "version": "3.13.1"
  }
 },
 "nbformat": 4,
 "nbformat_minor": 2
}
