{
 "cells": [
  {
   "cell_type": "code",
   "execution_count": 3,
   "metadata": {},
   "outputs": [
    {
     "name": "stdout",
     "output_type": "stream",
     "text": [
      "Código de respuesta: 200\n",
      "Clientes: {'status': True, 'clientes': [{'id': 1, 'nombre': 'cambiaod1', 'mail': 'juanperez@cambiado.com', 'contraseña': '1231234', 'edad': 50, 'created_at': '2024-12-06T02:31:01.000000Z', 'updated_at': '2024-12-13T02:37:20.000000Z'}, {'id': 3, 'nombre': 'Marshall Gusikowski', 'mail': 'lehner.casandra@example.org', 'contraseña': '$2y$10$m3c1kCNpOwxsVW1FLBfKd.MxVkP/OXqDnH4nXNwvOKZpsl717DEs2', 'edad': 19, 'created_at': '2024-12-06T02:31:02.000000Z', 'updated_at': '2024-12-06T02:31:02.000000Z'}, {'id': 4, 'nombre': 'Kayli Mitchell', 'mail': 'zoey16@example.com', 'contraseña': '$2y$10$v7TeHM34mQ7z0HnbL.rurO5sC1vkBpEYGNPox1vLSaVn2kuB8W.uu', 'edad': 44, 'created_at': '2024-12-06T02:31:02.000000Z', 'updated_at': '2024-12-06T02:31:02.000000Z'}, {'id': 5, 'nombre': 'Hazel Lind', 'mail': 'vferry@example.com', 'contraseña': '$2y$10$6Le.3QuPOhGWlcP9YYyEcuXfREDBRfZvw4XplTy3/xUz/jA2xsHo2', 'edad': 22, 'created_at': '2024-12-06T02:31:02.000000Z', 'updated_at': '2024-12-06T02:31:02.000000Z'}, {'id': 6, 'nombre': 'Reagan Feil', 'mail': 'wilburn09@example.com', 'contraseña': '$2y$10$e2mY7GNqkWR4pPfxR3FahuknE22AuHGMdKUdaTjYKc9ZGC3n6KhS2', 'edad': 34, 'created_at': '2024-12-06T02:31:02.000000Z', 'updated_at': '2024-12-06T02:31:02.000000Z'}, {'id': 7, 'nombre': 'Jewel Padberg', 'mail': 'phettinger@example.com', 'contraseña': '$2y$10$yYe/SL90lLveDD5gaS6Wv.Co14AiQClHlLrR7lvGZehwXemjgonii', 'edad': 19, 'created_at': '2024-12-06T02:31:02.000000Z', 'updated_at': '2024-12-06T02:31:02.000000Z'}, {'id': 8, 'nombre': 'Theodore Grimes', 'mail': 'pkautzer@example.com', 'contraseña': '$2y$10$d3PdhpQ5YL4zfk8dSJeyO.kzAKeRgypULvs7Q7zEqRhKb8nQTDOuC', 'edad': 66, 'created_at': '2024-12-06T02:31:02.000000Z', 'updated_at': '2024-12-06T02:31:02.000000Z'}, {'id': 9, 'nombre': 'Emilie Rodriguez', 'mail': 'hjerde@example.com', 'contraseña': '$2y$10$r7xPCUzUI.NswxPGGDdLiOlzH7D6I8XAEeF8hkbQCxIFIfGbYyfy6', 'edad': 25, 'created_at': '2024-12-06T02:31:02.000000Z', 'updated_at': '2024-12-06T02:31:02.000000Z'}, {'id': 10, 'nombre': 'Amie Littel', 'mail': 'era.kulas@example.com', 'contraseña': '$2y$10$eIvrEBi0/QIqjmyQ9uRJ/u/D7H/nnbD6h8pQhgwcvqhNzF2R3.6tK', 'edad': 48, 'created_at': '2024-12-06T02:31:02.000000Z', 'updated_at': '2024-12-06T02:31:02.000000Z'}, {'id': 11, 'nombre': 'Daniel', 'mail': 'Daniel@test.com', 'contraseña': '123123', 'edad': 0, 'created_at': None, 'updated_at': None}, {'id': 12, 'nombre': 'prueba', 'mail': 'prueba@gmail.com', 'contraseña': '123123', 'edad': 25, 'created_at': '2024-12-13T01:44:41.000000Z', 'updated_at': '2024-12-13T01:44:41.000000Z'}]}\n"
     ]
    }
   ],
   "source": [
    "import requests\n",
    "\n",
    "# URL de la API creada en Laravel\n",
    "url_api = 'http://127.0.0.1:8000/api/clients'\n",
    "\n",
    "try:\n",
    "    # Realizamos la petición GET\n",
    "    response = requests.get(url_api)\n",
    "\n",
    "    # Mostramos el código de respuesta\n",
    "    print(f\"Código de respuesta: {response.status_code}\")\n",
    "    \n",
    "    # Verificar si la respuesta fue exitosa\n",
    "    if response.status_code == 200:\n",
    "        # Convertir la respuesta a JSON y mostrar los datos\n",
    "        clientes = response.json()\n",
    "        print(\"Clientes:\", clientes)\n",
    "    elif response.status_code == 404:\n",
    "        print(\"Error: No se encontró la URL\")\n",
    "    elif response.status_code == 500:\n",
    "        print(\"Error: Problema con el servidor\")\n",
    "    else:\n",
    "        print(\"Error inesperado:\", response.status_code)\n",
    "except requests.ConnectionError:\n",
    "    print(\"Error: No se pudo conectar al servidor\")\n"
   ]
  },
  {
   "cell_type": "code",
   "execution_count": 5,
   "metadata": {},
   "outputs": [
    {
     "name": "stdout",
     "output_type": "stream",
     "text": [
      "Código de respuesta: 404\n",
      "Error: No se encontró el cliente con ID 2\n"
     ]
    }
   ],
   "source": [
    "import requests\n",
    "\n",
    "# ID del cliente que deseamos consultar\n",
    "client_id = 2\n",
    "# URL de la API creada en Laravel para consultar un cliente específico\n",
    "url_api = f'http://127.0.0.1:8000/api/clients/{client_id}'\n",
    "\n",
    "try:\n",
    "    # Realizamos la petición GET para el ID específico\n",
    "    response = requests.get(url_api)\n",
    "\n",
    "    # Mostramos el código de respuesta\n",
    "    print(f\"Código de respuesta: {response.status_code}\")\n",
    "\n",
    "    # Verificar si la respuesta fue exitosa\n",
    "    if response.status_code == 200:\n",
    "        client = response.json()\n",
    "        print(\"Detalles del cliente:\", client)\n",
    "    elif response.status_code == 404:\n",
    "        print(f\"Error: No se encontró el cliente con ID {client_id}\")\n",
    "    elif response.status_code == 500:\n",
    "        print(\"Error: Problema con el servidor\")\n",
    "    else:\n",
    "        print(\"Error inesperado:\", response.status_code)\n",
    "except requests.ConnectionError:\n",
    "    print(\"Error: No se pudo conectar al servidor\")\n"
   ]
  },
  {
   "cell_type": "code",
   "execution_count": 6,
   "metadata": {},
   "outputs": [
    {
     "name": "stdout",
     "output_type": "stream",
     "text": [
      "Cliente creado con éxito: {'status': True, 'Message': 'Cliente Creado con exito!', 'Cliente': {'nombre': 'Juan Pérez', 'mail': 'juanperez@example.com', 'contraseña': '123456', 'edad': 30, 'updated_at': '2024-12-13T03:35:50.000000Z', 'created_at': '2024-12-13T03:35:50.000000Z', 'id': 13}}\n"
     ]
    }
   ],
   "source": [
    "import requests\n",
    "\n",
    "# URL de la API creada en Laravel\n",
    "url_api = 'http://127.0.0.1:8000/api/clients'\n",
    "\n",
    "# Datos para crear un nuevo cliente\n",
    "data = {\n",
    "    \"nombre\": \"Juan Pérez\",\n",
    "    \"mail\": \"juanperez@example.com\",\n",
    "    \"contraseña\": \"123456\",\n",
    "    \"edad\": 30\n",
    "}\n",
    "\n",
    "try:\n",
    "    response = requests.post(url_api, json=data)\n",
    "\n",
    "    # Verificar el código de respuesta\n",
    "    if response.status_code == 200:\n",
    "        print(\"Cliente creado con éxito:\", response.json())\n",
    "    else:\n",
    "        print(f\"Error: {response.status_code}\")\n",
    "except requests.ConnectionError:\n",
    "    print(\"Error: No se pudo conectar al servidor\")\n"
   ]
  },
  {
   "cell_type": "code",
   "execution_count": 7,
   "metadata": {},
   "outputs": [
    {
     "name": "stdout",
     "output_type": "stream",
     "text": [
      "Cliente actualizado con éxito: {'Message': 'Actualizado Con exito', 'Cliente': {'id': 1, 'nombre': 'Juan Pérez Actualizado', 'mail': 'juanperez@updated.com', 'contraseña': 'nuevaContraseña123', 'edad': 35, 'created_at': '2024-12-06T02:31:01.000000Z', 'updated_at': '2024-12-13T03:38:01.000000Z'}, 'status': 200}\n"
     ]
    }
   ],
   "source": [
    "import requests\n",
    "\n",
    "# URL de la API creada en Laravel (asegúrate de que 1 sea el ID correcto del cliente)\n",
    "client_id = 1\n",
    "url_api = f'http://127.0.0.1:8000/api/clients/{client_id}'\n",
    "\n",
    "# Datos para actualizar el cliente\n",
    "data = {\n",
    "    \"nombre\": \"Juan Pérez Actualizado\",\n",
    "    \"mail\": \"juanperez@updated.com\",\n",
    "    \"contraseña\": \"nuevaContraseña123\",\n",
    "    \"edad\": 35\n",
    "}\n",
    "\n",
    "try:\n",
    "    response = requests.put(url_api, json=data)\n",
    "\n",
    "    # Verificar el código de respuesta\n",
    "    if response.status_code == 200:\n",
    "        print(\"Cliente actualizado con éxito:\", response.json())\n",
    "    elif response.status_code == 404:\n",
    "        print(f\"Error: Cliente con ID {client_id} no encontrado.\")\n",
    "    else:\n",
    "        print(f\"Error: {response.status_code}\")\n",
    "except requests.ConnectionError:\n",
    "    print(\"Error: No se pudo conectar al servidor\")\n"
   ]
  },
  {
   "cell_type": "code",
   "execution_count": 8,
   "metadata": {},
   "outputs": [
    {
     "name": "stdout",
     "output_type": "stream",
     "text": [
      "Cliente eliminado con éxito: {'Message': 'Eliminado Con Exito!', 'Cliente': 'Cliente eliminado', 'status': 200}\n"
     ]
    }
   ],
   "source": [
    "import requests\n",
    "\n",
    "# URL de la API creada en Laravel (asegúrate de que 1 sea el ID correcto del cliente)\n",
    "client_id = 1\n",
    "url_api = f'http://127.0.0.1:8000/api/clients/{client_id}'\n",
    "\n",
    "try:\n",
    "    response = requests.delete(url_api)\n",
    "\n",
    "    # Verificar el código de respuesta\n",
    "    if response.status_code == 200:\n",
    "        print(\"Cliente eliminado con éxito:\", response.json())\n",
    "    elif response.status_code == 404:\n",
    "        print(f\"Error: Cliente con ID {client_id} no encontrado.\")\n",
    "    else:\n",
    "        print(f\"Error: {response.status_code}\")\n",
    "except requests.ConnectionError:\n",
    "    print(\"Error: No se pudo conectar al servidor\")\n"
   ]
  }
 ],
 "metadata": {
  "kernelspec": {
   "display_name": "Python 3",
   "language": "python",
   "name": "python3"
  },
  "language_info": {
   "codemirror_mode": {
    "name": "ipython",
    "version": 3
   },
   "file_extension": ".py",
   "mimetype": "text/x-python",
   "name": "python",
   "nbconvert_exporter": "python",
   "pygments_lexer": "ipython3",
   "version": "3.13.0"
  }
 },
 "nbformat": 4,
 "nbformat_minor": 2
}
